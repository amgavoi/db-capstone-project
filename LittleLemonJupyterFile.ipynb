{
 "cells": [
  {
   "cell_type": "code",
   "execution_count": null,
   "id": "9a367dd9-257c-4714-85c9-39cc01efff38",
   "metadata": {},
   "outputs": [],
   "source": [
    "#installing the mysql\n",
    "!pip install mysql-connector-python"
   ]
  },
  {
   "cell_type": "code",
   "execution_count": 21,
   "id": "b7826e29-c8b8-478a-b38d-19c3c14d3003",
   "metadata": {},
   "outputs": [],
   "source": [
    "#importing the connector and the error module\n",
    "import mysql.connector as connector\n",
    "from mysql.connector import Error"
   ]
  },
  {
   "cell_type": "code",
   "execution_count": 22,
   "id": "5cbfff10-03c2-4b7f-95aa-56fe8fbadfe9",
   "metadata": {},
   "outputs": [
    {
     "name": "stdout",
     "output_type": "stream",
     "text": [
      "Your connection has been established\n"
     ]
    }
   ],
   "source": [
    "#establishing a connection between python and mysql within a try-except block\n",
    "try:\n",
    "    connection=connector.connect(user=\"root\",password=\"\")\n",
    "    print('Your connection has been established')\n",
    "except Error as er:\n",
    "    print(er.msg)"
   ]
  },
  {
   "cell_type": "code",
   "execution_count": 23,
   "id": "3364a05f-b4c7-41c4-a277-f979410242b4",
   "metadata": {},
   "outputs": [
    {
     "name": "stdout",
     "output_type": "stream",
     "text": [
      "The cursor has been created\n"
     ]
    }
   ],
   "source": [
    "#creating the cursor object to comunicate with the database\n",
    "cursor = connection.cursor()\n",
    "print('The cursor has been created')"
   ]
  },
  {
   "cell_type": "code",
   "execution_count": 24,
   "id": "55eca842-c326-4931-89a8-dd2104fc01a5",
   "metadata": {},
   "outputs": [
    {
     "name": "stdout",
     "output_type": "stream",
     "text": [
      "The database LittleLemonDB is set for use\n"
     ]
    }
   ],
   "source": [
    "#setting the database for use\n",
    "cursor.execute('''use LittleLemonDB''')\n",
    "print('The database LittleLemonDB is set for use')"
   ]
  },
  {
   "cell_type": "code",
   "execution_count": 25,
   "id": "f4ea9144-c79e-4fee-845a-03e709d202d7",
   "metadata": {},
   "outputs": [
    {
     "name": "stdout",
     "output_type": "stream",
     "text": [
      "('Tables_in_littlelemondb',)\n",
      "('bookings',)\n",
      "('clients',)\n",
      "('delivery',)\n",
      "('menu',)\n",
      "('menuitems',)\n",
      "('orders',)\n",
      "('ordersview',)\n",
      "('staff',)\n"
     ]
    }
   ],
   "source": [
    "#printing the tables of the database\n",
    "cursor.execute('''show tables''')\n",
    "result=cursor.fetchall()\n",
    "print(cursor.column_names)\n",
    "for r in result:\n",
    "    print(r)"
   ]
  },
  {
   "cell_type": "code",
   "execution_count": 26,
   "id": "3fa9ae09-b7a5-4b56-9646-02f3c0f73437",
   "metadata": {},
   "outputs": [
    {
     "name": "stdout",
     "output_type": "stream",
     "text": [
      "('FullName', 'ContactNumber', 'Email', 'TotalCost')\n",
      "('Takashi Ito', 351786345, 'takaito@gmail.com', Decimal('186.00'))\n",
      "('Laurina Delgado', 351342597, 'lau_delgado@gmail.com', Decimal('151.00'))\n",
      "('Benjamin Clauss', 351342509, 'benclauss@gmail.com', Decimal('87.00'))\n"
     ]
    }
   ],
   "source": [
    "#writing the join query into a python variable then fetching the results from the cursor and printing them with a for loop\n",
    "join_query = '''select c.FullName, c.ContactNumber, c.Email, o.TotalCost from Clients as c inner join Orders as o on c.ClientID = o.ClientID where o.TotalCost > 60;'''\n",
    "cursor.execute(join_query)\n",
    "result=cursor.fetchall()\n",
    "print(cursor.column_names)\n",
    "for r in result:\n",
    "    print(r)"
   ]
  },
  {
   "cell_type": "code",
   "execution_count": 27,
   "id": "a5f28fb9-da52-4c00-af13-5dfe521b18e7",
   "metadata": {},
   "outputs": [
    {
     "name": "stdout",
     "output_type": "stream",
     "text": [
      "The cursor has been closed.\n",
      "The connection with MySQL has been closed.\n"
     ]
    }
   ],
   "source": [
    "#closing the connection between python and mysql\n",
    "if connection.is_connected():\n",
    "    cursor.close()\n",
    "    print(\"The cursor has been closed.\")\n",
    "    connection.close()\n",
    "    print(\"The connection with MySQL has been closed.\")\n",
    "else:\n",
    "    print(\"Connection is already closed\")"
   ]
  }
 ],
 "metadata": {
  "kernelspec": {
   "display_name": "Python 3 (ipykernel)",
   "language": "python",
   "name": "python3"
  },
  "language_info": {
   "codemirror_mode": {
    "name": "ipython",
    "version": 3
   },
   "file_extension": ".py",
   "mimetype": "text/x-python",
   "name": "python",
   "nbconvert_exporter": "python",
   "pygments_lexer": "ipython3",
   "version": "3.12.2"
  }
 },
 "nbformat": 4,
 "nbformat_minor": 5
}
